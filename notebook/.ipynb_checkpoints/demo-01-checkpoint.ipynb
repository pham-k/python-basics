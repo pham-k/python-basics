{
 "cells": [
  {
   "cell_type": "code",
   "execution_count": 6,
   "id": "c01e2b32",
   "metadata": {},
   "outputs": [],
   "source": [
    "import sys\n",
    "import re"
   ]
  },
  {
   "cell_type": "code",
   "execution_count": 4,
   "id": "dbd62cf3",
   "metadata": {},
   "outputs": [
    {
     "data": {
      "text/plain": [
       "['/home/kyo/Documents/teaching/subject/02-05/repo/notebook',\n",
       " '/home/kyo/anaconda3/lib/python38.zip',\n",
       " '/home/kyo/anaconda3/lib/python3.8',\n",
       " '/home/kyo/anaconda3/lib/python3.8/lib-dynload',\n",
       " '',\n",
       " '/home/kyo/.local/lib/python3.8/site-packages',\n",
       " '/home/kyo/anaconda3/lib/python3.8/site-packages',\n",
       " '/home/kyo/.local/lib/python3.8/site-packages/IPython/extensions',\n",
       " '/home/kyo/.ipython']"
      ]
     },
     "execution_count": 4,
     "metadata": {},
     "output_type": "execute_result"
    }
   ],
   "source": [
    "sys.path"
   ]
  },
  {
   "cell_type": "code",
   "execution_count": 7,
   "id": "4d0f4453",
   "metadata": {},
   "outputs": [
    {
     "data": {
      "text/plain": [
       "'/home/kyo/anaconda3/lib/python3.8/re.py'"
      ]
     },
     "execution_count": 7,
     "metadata": {},
     "output_type": "execute_result"
    }
   ],
   "source": [
    "re.__file__"
   ]
  },
  {
   "cell_type": "code",
   "execution_count": 9,
   "id": "d18e3f88",
   "metadata": {},
   "outputs": [
    {
     "name": "stdout",
     "output_type": "stream",
     "text": [
      "Hello Khuong\n"
     ]
    },
    {
     "data": {
      "text/plain": [
       "'__main__'"
      ]
     },
     "execution_count": 9,
     "metadata": {},
     "output_type": "execute_result"
    }
   ],
   "source": [
    "my_name = 'Khuong'\n",
    "print('Hello', my_name)\n",
    "# my_name\n"
   ]
  },
  {
   "cell_type": "code",
   "execution_count": 6,
   "id": "7eb424c3",
   "metadata": {},
   "outputs": [
    {
     "ename": "SyntaxError",
     "evalue": "EOL while scanning string literal (<ipython-input-6-6d22d03c5544>, line 1)",
     "output_type": "error",
     "traceback": [
      "\u001b[0;36m  File \u001b[0;32m\"<ipython-input-6-6d22d03c5544>\"\u001b[0;36m, line \u001b[0;32m1\u001b[0m\n\u001b[0;31m    print('Hello world)\u001b[0m\n\u001b[0m                       ^\u001b[0m\n\u001b[0;31mSyntaxError\u001b[0m\u001b[0;31m:\u001b[0m EOL while scanning string literal\n"
     ]
    }
   ],
   "source": [
    "print('Hello world)"
   ]
  },
  {
   "cell_type": "code",
   "execution_count": 5,
   "id": "97a7375f",
   "metadata": {},
   "outputs": [
    {
     "ename": "NameError",
     "evalue": "name 'world' is not defined",
     "output_type": "error",
     "traceback": [
      "\u001b[0;31m---------------------------------------------------------------------------\u001b[0m",
      "\u001b[0;31mNameError\u001b[0m                                 Traceback (most recent call last)",
      "\u001b[0;32m<ipython-input-5-1dc9c5695909>\u001b[0m in \u001b[0;36m<module>\u001b[0;34m\u001b[0m\n\u001b[0;32m----> 1\u001b[0;31m \u001b[0mprint\u001b[0m\u001b[0;34m(\u001b[0m\u001b[0;34m'Hello'\u001b[0m\u001b[0;34m,\u001b[0m \u001b[0mworld\u001b[0m\u001b[0;34m)\u001b[0m\u001b[0;34m\u001b[0m\u001b[0;34m\u001b[0m\u001b[0m\n\u001b[0m",
      "\u001b[0;31mNameError\u001b[0m: name 'world' is not defined"
     ]
    }
   ],
   "source": [
    "print('Hello', world)\n"
   ]
  }
 ],
 "metadata": {
  "kernelspec": {
   "display_name": "Python 3",
   "language": "python",
   "name": "python3"
  },
  "language_info": {
   "codemirror_mode": {
    "name": "ipython",
    "version": 3
   },
   "file_extension": ".py",
   "mimetype": "text/x-python",
   "name": "python",
   "nbconvert_exporter": "python",
   "pygments_lexer": "ipython3",
   "version": "3.8.2"
  }
 },
 "nbformat": 4,
 "nbformat_minor": 5
}
