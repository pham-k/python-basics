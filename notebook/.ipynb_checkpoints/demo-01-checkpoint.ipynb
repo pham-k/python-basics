{
 "cells": [
  {
   "cell_type": "markdown",
   "id": "8e06ec04",
   "metadata": {},
   "source": [
    "# Python buoi 1"
   ]
  },
  {
   "cell_type": "markdown",
   "id": "4d446763",
   "metadata": {},
   "source": [
    "## Gioi thieu notebook"
   ]
  },
  {
   "cell_type": "markdown",
   "id": "d9c7d5fb",
   "metadata": {},
   "source": [
    "### heading 3\n",
    "\n",
    "Normal paragraph\n",
    "\n",
    "* item 1\n",
    "* item 2\n",
    "  * sub-item 1\n",
    "  * sub-item 2"
   ]
  },
  {
   "cell_type": "markdown",
   "id": "ef06d1c0",
   "metadata": {},
   "source": [
    "[Link to google](www.google.com) "
   ]
  },
  {
   "cell_type": "code",
   "execution_count": 1,
   "id": "0878a87d",
   "metadata": {},
   "outputs": [
    {
     "data": {
      "text/plain": [
       "2"
      ]
     },
     "execution_count": 1,
     "metadata": {},
     "output_type": "execute_result"
    }
   ],
   "source": [
    "1 + 1"
   ]
  },
  {
   "cell_type": "code",
   "execution_count": 2,
   "id": "82a2142d",
   "metadata": {},
   "outputs": [
    {
     "data": {
      "text/plain": [
       "-1"
      ]
     },
     "execution_count": 2,
     "metadata": {},
     "output_type": "execute_result"
    }
   ],
   "source": [
    "1 - 2"
   ]
  },
  {
   "cell_type": "code",
   "execution_count": 6,
   "id": "14a493a6",
   "metadata": {},
   "outputs": [
    {
     "name": "stdout",
     "output_type": "stream",
     "text": [
      "Hello\n",
      "4\n"
     ]
    }
   ],
   "source": [
    "print('Hello')\n",
    "# day la comment\n",
    "# 1 + 1\n",
    "print(1 + 3)"
   ]
  },
  {
   "cell_type": "code",
   "execution_count": 16,
   "id": "c26d1684",
   "metadata": {},
   "outputs": [],
   "source": [
    "thoi_gian_u_benh = 10 \n",
    "THOI_GIAN_U_BENH = 20\n",
    "thoi_gian_u_benh = 15\n",
    "thoi_gian_u_benh\n",
    "my_name = 'Khuong' # string"
   ]
  },
  {
   "cell_type": "code",
   "execution_count": null,
   "id": "1b6f06be",
   "metadata": {},
   "outputs": [],
   "source": []
  }
 ],
 "metadata": {
  "kernelspec": {
   "display_name": "Python 3",
   "language": "python",
   "name": "python3"
  },
  "language_info": {
   "codemirror_mode": {
    "name": "ipython",
    "version": 3
   },
   "file_extension": ".py",
   "mimetype": "text/x-python",
   "name": "python",
   "nbconvert_exporter": "python",
   "pygments_lexer": "ipython3",
   "version": "3.8.2"
  }
 },
 "nbformat": 4,
 "nbformat_minor": 5
}
